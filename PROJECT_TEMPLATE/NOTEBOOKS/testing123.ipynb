{
 "cells": [
  {
   "cell_type": "code",
   "execution_count": null,
   "id": "9a2726ca-3526-4f4b-a88d-261db00fb3d0",
   "metadata": {},
   "outputs": [],
   "source": [
    "import torch\n",
    "\n",
    "x = torch.rand(100)\n",
    "x.shape"
   ]
  },
  {
   "cell_type": "code",
   "execution_count": null,
   "id": "2178c4ca-7c02-44bb-b987-031b1f85e9f4",
   "metadata": {},
   "outputs": [],
   "source": [
    "from PROJECT_TEMPLATE.ANALYSES import hello"
   ]
  },
  {
   "cell_type": "code",
   "execution_count": null,
   "id": "1f74477c-dc8d-4535-bfed-7f0fec73620a",
   "metadata": {},
   "outputs": [],
   "source": [
    "hello()"
   ]
  },
  {
   "cell_type": "code",
   "execution_count": null,
   "id": "c3a734e3-133b-4a6c-b512-92d2b847ab25",
   "metadata": {},
   "outputs": [],
   "source": []
  }
 ],
 "metadata": {
  "kernelspec": {
   "display_name": "Python 3 (ipykernel)",
   "language": "python",
   "name": "python3"
  },
  "language_info": {
   "codemirror_mode": {
    "name": "ipython",
    "version": 3
   },
   "file_extension": ".py",
   "mimetype": "text/x-python",
   "name": "python",
   "nbconvert_exporter": "python",
   "pygments_lexer": "ipython3",
   "version": "3.9.7"
  }
 },
 "nbformat": 4,
 "nbformat_minor": 5
}
