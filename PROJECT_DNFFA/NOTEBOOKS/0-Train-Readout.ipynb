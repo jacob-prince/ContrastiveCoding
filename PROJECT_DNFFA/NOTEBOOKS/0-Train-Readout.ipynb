{
 "cells": [
  {
   "cell_type": "code",
   "execution_count": null,
   "id": "58b44bda-a73e-4ad3-8b65-af014e1b23e4",
   "metadata": {},
   "outputs": [],
   "source": [
    "%load_ext autoreload\n",
    "%autoreload 2"
   ]
  },
  {
   "cell_type": "code",
   "execution_count": null,
   "id": "fa010be0-e84e-4c86-a7bd-e4fcb7b545ef",
   "metadata": {},
   "outputs": [],
   "source": [
    "from jsputils import classes, nnutils, feature_extractor\n",
    "import os\n",
    "os.environ['CUDA_LAUNCH_BLOCKING'] = '1'"
   ]
  },
  {
   "cell_type": "code",
   "execution_count": null,
   "id": "a35081da-1b98-4a0c-ae24-0ef0b87a1170",
   "metadata": {},
   "outputs": [],
   "source": [
    "model_name = 'alexnet-barlow-twins'\n",
    "readout_from = 'relu7'\n",
    "sparse_pos = False"
   ]
  },
  {
   "cell_type": "code",
   "execution_count": null,
   "id": "c2bbf24c-6620-4ecc-a8d2-c2a88f76939b",
   "metadata": {},
   "outputs": [],
   "source": [
    "DNN = classes.DNNModel(model_name)"
   ]
  },
  {
   "cell_type": "code",
   "execution_count": null,
   "id": "1fbb147b-dfc6-4a3e-bc92-59a66ea720ec",
   "metadata": {},
   "outputs": [],
   "source": [
    "DNN.model_name"
   ]
  },
  {
   "cell_type": "code",
   "execution_count": null,
   "id": "88366861-8774-4934-ba84-462ca08708e3",
   "metadata": {
    "jupyter": {
     "outputs_hidden": true
    },
    "tags": []
   },
   "outputs": [],
   "source": [
    "DNN.train_linear_probe(readout_from = readout_from, sparse_pos = sparse_pos)"
   ]
  }
 ],
 "metadata": {
  "kernelspec": {
   "display_name": "dnffa",
   "language": "python",
   "name": "dnffa"
  },
  "language_info": {
   "codemirror_mode": {
    "name": "ipython",
    "version": 3
   },
   "file_extension": ".py",
   "mimetype": "text/x-python",
   "name": "python",
   "nbconvert_exporter": "python",
   "pygments_lexer": "ipython3",
   "version": "3.9.16"
  }
 },
 "nbformat": 4,
 "nbformat_minor": 5
}
