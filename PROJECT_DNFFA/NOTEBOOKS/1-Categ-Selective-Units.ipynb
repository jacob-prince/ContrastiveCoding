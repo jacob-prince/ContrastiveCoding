{
 "cells": [
  {
   "cell_type": "code",
   "execution_count": null,
   "id": "cbb22954-dff7-4ca6-92a4-9e392fb87630",
   "metadata": {},
   "outputs": [],
   "source": [
    "%load_ext autoreload\n",
    "%autoreload 2"
   ]
  },
  {
   "cell_type": "code",
   "execution_count": null,
   "id": "803f39de-0840-4fb3-8a7e-8aa1bdab7735",
   "metadata": {},
   "outputs": [],
   "source": [
    "from PROJECT_DNFFA.ANALYSES import selectivity\n",
    "from PROJECT_DNFFA.HELPERS import plotting, paths, nnutils\n",
    "\n",
    "import torch\n",
    "from torchvision import datasets\n",
    "import torchlens as tl\n",
    "\n",
    "import matplotlib.pyplot as plt\n",
    "import numpy as np\n",
    "import scipy.stats as stats"
   ]
  },
  {
   "cell_type": "code",
   "execution_count": null,
   "id": "f00fcd31-253c-4721-b7ac-71f70ae7544e",
   "metadata": {},
   "outputs": [],
   "source": [
    "model_name = 'alexnet-barlow-twins'\n",
    "floc_set = 'vpnl-floc'\n",
    "probe_set = 'classic-5categ'\n",
    "\n",
    "if floc_set == 'vpnl-floc':\n",
    "    act_domains = ['faces','bodies','scenes','characters']\n",
    "    pie_domains = ['faces','bodies','objects','scenes','characters']\n",
    "\n",
    "probe_set_dir = paths.probe_imageset_dir()"
   ]
  },
  {
   "cell_type": "code",
   "execution_count": null,
   "id": "eb02c166-20bc-44bf-b2f0-04a5949df630",
   "metadata": {},
   "outputs": [],
   "source": [
    "model, transforms, _ = nnutils.load_model(model_name)\n",
    "\n",
    "probe_dataset = datasets.ImageFolder(root = f'{probe_set_dir}/{probe_set}', transform = transforms)"
   ]
  },
  {
   "cell_type": "code",
   "execution_count": null,
   "id": "b71637b8-5dcc-4b9a-b57f-0fbffaea1956",
   "metadata": {},
   "outputs": [],
   "source": [
    "print(probe_dataset.classes)"
   ]
  },
  {
   "cell_type": "code",
   "execution_count": null,
   "id": "a128bd2e-5fbf-41c7-b67a-acf0c753a34e",
   "metadata": {},
   "outputs": [],
   "source": [
    "# data loader object is required for passing images through the network - choose batch size and num workers here\n",
    "data_loader = torch.utils.data.DataLoader(\n",
    "    dataset=probe_dataset,\n",
    "    batch_size=len(probe_dataset),\n",
    "    num_workers=12,\n",
    "    shuffle=False,\n",
    "    pin_memory=False\n",
    ")\n",
    "\n",
    "image_tensors, _ = next(iter(data_loader))\n",
    "\n",
    "model_history = tl.get_model_activations(model, image_tensors, which_layers='all')"
   ]
  },
  {
   "cell_type": "code",
   "execution_count": null,
   "id": "009ec4e4-3790-4761-a40b-1e42ea81b11a",
   "metadata": {},
   "outputs": [],
   "source": [
    "indices = dict()\n",
    "props = dict()\n",
    "masks = dict()\n",
    "\n",
    "layer_list = nnutils.get_layer_group(model_name)\n",
    "\n",
    "for domain in pie_domains:\n",
    "    \n",
    "    selective_unit_dict = selectivity.get_model_selective_units(model_name, f'{floc_set}-{domain}', verbose = False)\n",
    "    \n",
    "    props[domain] = dict()\n",
    "    indices[domain] = dict()\n",
    "    masks[domain] = dict()\n",
    "    \n",
    "    for layer in layer_list:\n",
    "        props[domain][layer] = selective_unit_dict[layer]['prop_selective']\n",
    "        indices[domain][layer] = selective_unit_dict[layer]['selective_idx']\n",
    "        masks[domain][layer] = selective_unit_dict[layer]['lesioning_mask']\n",
    "        "
   ]
  },
  {
   "cell_type": "code",
   "execution_count": null,
   "id": "b5d666ac-c6fe-43c9-8d8c-73a72653b458",
   "metadata": {},
   "outputs": [],
   "source": [
    "act_plot_layer = 'linear_1_28'\n",
    "domain_masks = dict()\n",
    "all_sel_idx = []\n",
    "sorted_acts = []\n",
    "nsel = []\n",
    "\n",
    "plot_acts = model_history[act_plot_layer].tensor_contents.detach().numpy()\n",
    "dims = plot_acts.shape\n",
    "\n",
    "if len(dims) > 2:\n",
    "    plot_acts = plot_acts.reshape(plot_acts.shape[0],np.prod(plot_acts.shape[1:]))\n",
    "    \n",
    "print(plot_acts.shape)\n",
    "\n",
    "for domain in domains:\n",
    "\n",
    "    # use the domain-selective subset\n",
    "    mask = masks[domain][act_plot_layer].astype(bool) == False\n",
    "\n",
    "    print(len(np.argwhere(mask)))\n",
    "    \n",
    "    all_sel_idx.append(mask)\n",
    "    nsel.append(np.sum(mask))\n",
    "    \n",
    "    sorted_acts.append(plot_acts[:,mask].T)\n",
    "    \n",
    "all_sel_idx = np.sum(np.vstack(all_sel_idx),axis=0) > 0\n",
    "non_sel_idx = np.logical_not(all_sel_idx)\n",
    "\n",
    "sorted_acts.append(plot_acts[:,non_sel_idx].T)\n",
    "sorted_acts = stats.zscore(np.vstack(sorted_acts),axis=1)"
   ]
  },
  {
   "cell_type": "code",
   "execution_count": null,
   "id": "2cb07437-2271-4ec4-a86c-702c98bc388b",
   "metadata": {},
   "outputs": [],
   "source": [
    "plt.rcParams.update({'font.size': 24})\n",
    "\n",
    "plt.figure(figsize=(12,18))\n",
    "plt.imshow(sorted_acts,aspect='auto',clim=(-1.5,1.5),cmap='magma')\n",
    "plt.colorbar()\n",
    "\n",
    "x = 0\n",
    "for ns in nsel:\n",
    "    plt.plot(np.arange(400), np.ones((400,)) * x+ns, 'k')\n",
    "    x+=ns\n",
    "    \n",
    "plt.xticks(np.arange(0,480,80));"
   ]
  },
  {
   "cell_type": "code",
   "execution_count": null,
   "id": "91e0f753-835c-4a31-ae58-94ed0880a6a3",
   "metadata": {},
   "outputs": [],
   "source": [
    "print(layer_list)\n",
    "\n",
    "layer_list_fmt = nnutils.alexnet_layer_str_format(layer_list)\n",
    "\n",
    "print(layer_list_fmt)"
   ]
  },
  {
   "cell_type": "code",
   "execution_count": null,
   "id": "34a1c9b1-765a-47bc-9a2b-bec13bea90a3",
   "metadata": {},
   "outputs": [],
   "source": [
    "pie_plot_layers = ['conv2d_1_8', 'conv2d_2_12', 'conv2d_3_16', 'conv2d_4_19', 'conv2d_5_22', 'linear_1_28']\n",
    "pie_plot_layers_fmt = ['conv1', 'conv2', 'conv3', 'conv4', 'conv5', 'fc6']\n",
    "              \n",
    "if floc_set == 'vpnl-floc':\n",
    "    colors = np.flip(['tomato','orange','dodgerblue','limegreen','purple','darkgray'])\n",
    "    \n",
    "for lay, layer in enumerate(pie_plot_layers):\n",
    "    \n",
    "    sel_props = [props[domain][layer] for domain in pie_domains]\n",
    "    sel_props.append(1 - np.sum(sel_props))\n",
    "    sel_props = np.flip(sel_props)\n",
    "    assert(np.isclose(np.sum(sel_props), np.array([1])))\n",
    "    print(layer, sel_props)\n",
    "    \n",
    "    explodes = np.flip([0.05,0.05,0.05,0.05,0.05,0])\n",
    "\n",
    "    plt.figure(figsize=(6,6))\n",
    "    plt.pie(sel_props,colors=colors,explode=explodes,startangle=70);\n",
    "    plt.title(pie_plot_layers_fmt[lay])\n",
    "\n"
   ]
  },
  {
   "cell_type": "code",
   "execution_count": null,
   "id": "70e35050-6000-4638-b936-c09dcd190ffc",
   "metadata": {},
   "outputs": [],
   "source": []
  }
 ],
 "metadata": {
  "kernelspec": {
   "display_name": "dnffa",
   "language": "python",
   "name": "dnffa"
  },
  "language_info": {
   "codemirror_mode": {
    "name": "ipython",
    "version": 3
   },
   "file_extension": ".py",
   "mimetype": "text/x-python",
   "name": "python",
   "nbconvert_exporter": "python",
   "pygments_lexer": "ipython3",
   "version": "3.9.15"
  }
 },
 "nbformat": 4,
 "nbformat_minor": 5
}
